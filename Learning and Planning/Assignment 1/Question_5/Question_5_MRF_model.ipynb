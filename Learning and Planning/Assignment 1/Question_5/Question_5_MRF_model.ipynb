{
 "cells": [
  {
   "cell_type": "code",
   "execution_count": 1,
   "metadata": {},
   "outputs": [
    {
     "name": "stderr",
     "output_type": "stream",
     "text": [
      "c:\\Users\\ddsdi\\.virtualenvs\\lightGCN-gUtlu06Z\\lib\\site-packages\\tqdm\\auto.py:21: TqdmWarning: IProgress not found. Please update jupyter and ipywidgets. See https://ipywidgets.readthedocs.io/en/stable/user_install.html\n",
      "  from .autonotebook import tqdm as notebook_tqdm\n"
     ]
    }
   ],
   "source": [
    "import pandas as pd\n",
    "import numpy as np\n",
    "from pgmpy.models import MarkovNetwork\n",
    "from pgmpy.factors.discrete import DiscreteFactor\n",
    "from pgmpy.inference import VariableElimination, BeliefPropagation"
   ]
  },
  {
   "cell_type": "code",
   "execution_count": 2,
   "metadata": {},
   "outputs": [],
   "source": [
    "model = MarkovNetwork()\n",
    "\n",
    "edges = [\n",
    "    ('X1', 'X2'), ('X2', 'X3'), ('X3', 'X4'), ('X1', 'X4'),\n",
    "    ('X1', 'Y1'), ('X2', 'Y2'), ('X3', 'Y3'), ('X4', 'Y4')\n",
    "]\n",
    "model.add_edges_from(edges)"
   ]
  },
  {
   "cell_type": "code",
   "execution_count": 3,
   "metadata": {},
   "outputs": [],
   "source": [
    "# (0 --> B, 1 --> W)\n",
    "states = [0, 1]\n",
    "\n",
    "# Add potential functions phi(Xi, Xj)\n",
    "potential_values = np.array([[2, 0.5], [0.5, 2]])\n",
    "\n",
    "# Add factors (potential functions) for the Xi-Xj connections\n",
    "for edge in [('X1', 'X2'), ('X2', 'X3'), ('X3', 'X4'), ('X1', 'X4')]:\n",
    "    factor = DiscreteFactor([edge[0], edge[1]], [2, 2], potential_values.flatten())\n",
    "    model.add_factors(factor)"
   ]
  },
  {
   "cell_type": "code",
   "execution_count": 4,
   "metadata": {},
   "outputs": [],
   "source": [
    "# Add lambda(Xi, Yi) potential functions\n",
    "lambda_values = np.array([[4, 0.5], [0.5, 4]])\n",
    "\n",
    "for edge in [('X1', 'Y1'), ('X2', 'Y2'), ('X3', 'Y3'), ('X4', 'Y4')]:\n",
    "    factor = DiscreteFactor([edge[0], edge[1]], [2, 2], lambda_values.flatten())\n",
    "    model.add_factors(factor)"
   ]
  },
  {
   "cell_type": "code",
   "execution_count": 5,
   "metadata": {},
   "outputs": [],
   "source": [
    "evidence = {\n",
    "    'Y1': 0,  # B\n",
    "    'Y2': 1,  # W\n",
    "    'Y3': 0,  # B\n",
    "    'Y4': 1   # W\n",
    "}"
   ]
  },
  {
   "cell_type": "code",
   "execution_count": 6,
   "metadata": {},
   "outputs": [
    {
     "name": "stdout",
     "output_type": "stream",
     "text": [
      "+-------+-------+--------------+\n",
      "| X1    | X2    |   phi(X1,X2) |\n",
      "+=======+=======+==============+\n",
      "| X1(0) | X2(0) |       0.3465 |\n",
      "+-------+-------+--------------+\n",
      "| X1(0) | X2(1) |       0.2897 |\n",
      "+-------+-------+--------------+\n",
      "| X1(1) | X2(0) |       0.0173 |\n",
      "+-------+-------+--------------+\n",
      "| X1(1) | X2(1) |       0.3465 |\n",
      "+-------+-------+--------------+\n"
     ]
    }
   ],
   "source": [
    "belief_propagation = BeliefPropagation(model)\n",
    "print(belief_propagation.query(variables=['X1', 'X2'], evidence=evidence))"
   ]
  },
  {
   "cell_type": "code",
   "execution_count": 7,
   "metadata": {},
   "outputs": [
    {
     "data": {
      "text/plain": [
       "0.0597169485674836"
      ]
     },
     "execution_count": 7,
     "metadata": {},
     "output_type": "execute_result"
    }
   ],
   "source": [
    "0.0173/0.2897"
   ]
  },
  {
   "attachments": {},
   "cell_type": "markdown",
   "metadata": {},
   "source": [
    "### The below code segment is the part equivalent to the solution given in the assignment."
   ]
  },
  {
   "cell_type": "code",
   "execution_count": 8,
   "metadata": {},
   "outputs": [
    {
     "name": "stdout",
     "output_type": "stream",
     "text": [
      "+-------+-------+--------------+\n",
      "| X1    | X2    |   phi(X1,X2) |\n",
      "+=======+=======+==============+\n",
      "| X1(0) | X2(0) |     100.5000 |\n",
      "+-------+-------+--------------+\n",
      "| X1(0) | X2(1) |      84.0000 |\n",
      "+-------+-------+--------------+\n",
      "| X1(1) | X2(0) |       5.0039 |\n",
      "+-------+-------+--------------+\n",
      "| X1(1) | X2(1) |     100.5000 |\n",
      "+-------+-------+--------------+\n"
     ]
    }
   ],
   "source": [
    "infer = VariableElimination(model)\n",
    "print(infer.query(variables=['X1', 'X2'], evidence=evidence))"
   ]
  },
  {
   "cell_type": "code",
   "execution_count": 9,
   "metadata": {},
   "outputs": [
    {
     "data": {
      "text/plain": [
       "0.05957023809523809"
      ]
     },
     "execution_count": 9,
     "metadata": {},
     "output_type": "execute_result"
    }
   ],
   "source": [
    "5.0039/84"
   ]
  },
  {
   "cell_type": "code",
   "execution_count": null,
   "metadata": {},
   "outputs": [],
   "source": []
  },
  {
   "cell_type": "code",
   "execution_count": null,
   "metadata": {},
   "outputs": [],
   "source": []
  },
  {
   "cell_type": "code",
   "execution_count": null,
   "metadata": {},
   "outputs": [],
   "source": []
  },
  {
   "cell_type": "code",
   "execution_count": null,
   "metadata": {},
   "outputs": [],
   "source": []
  },
  {
   "cell_type": "code",
   "execution_count": null,
   "metadata": {},
   "outputs": [],
   "source": []
  },
  {
   "cell_type": "code",
   "execution_count": null,
   "metadata": {},
   "outputs": [],
   "source": []
  },
  {
   "cell_type": "code",
   "execution_count": null,
   "metadata": {},
   "outputs": [],
   "source": []
  }
 ],
 "metadata": {
  "kernelspec": {
   "display_name": "lightGCN-gUtlu06Z",
   "language": "python",
   "name": "python3"
  },
  "language_info": {
   "codemirror_mode": {
    "name": "ipython",
    "version": 3
   },
   "file_extension": ".py",
   "mimetype": "text/x-python",
   "name": "python",
   "nbconvert_exporter": "python",
   "pygments_lexer": "ipython3",
   "version": "3.9.7"
  },
  "orig_nbformat": 4,
  "vscode": {
   "interpreter": {
    "hash": "325292985d3ad1e62081d18f08bb7be2c5c1e3d2443cbcaf01d6b8e3350b3168"
   }
  }
 },
 "nbformat": 4,
 "nbformat_minor": 2
}
