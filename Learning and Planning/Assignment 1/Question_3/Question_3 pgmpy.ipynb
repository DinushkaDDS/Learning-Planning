{
 "cells": [
  {
   "cell_type": "code",
   "execution_count": 12,
   "metadata": {},
   "outputs": [],
   "source": [
    "import pandas as pd\n",
    "import numpy as np\n",
    "from pgmpy.models import BayesianNetwork\n",
    "from pgmpy.estimators import MaximumLikelihoodEstimator\n",
    "from pgmpy.inference import VariableElimination, ApproxInference"
   ]
  },
  {
   "cell_type": "code",
   "execution_count": 2,
   "metadata": {},
   "outputs": [],
   "source": [
    "data = pd.read_csv('simulated_data.csv')"
   ]
  },
  {
   "cell_type": "code",
   "execution_count": 3,
   "metadata": {},
   "outputs": [
    {
     "data": {
      "text/plain": [
       "1000"
      ]
     },
     "execution_count": 3,
     "metadata": {},
     "output_type": "execute_result"
    }
   ],
   "source": [
    "TOTAL_DATA_COUNT = len(data)\n",
    "TOTAL_DATA_COUNT"
   ]
  },
  {
   "cell_type": "code",
   "execution_count": 4,
   "metadata": {},
   "outputs": [
    {
     "data": {
      "text/html": [
       "<div>\n",
       "<style scoped>\n",
       "    .dataframe tbody tr th:only-of-type {\n",
       "        vertical-align: middle;\n",
       "    }\n",
       "\n",
       "    .dataframe tbody tr th {\n",
       "        vertical-align: top;\n",
       "    }\n",
       "\n",
       "    .dataframe thead th {\n",
       "        text-align: right;\n",
       "    }\n",
       "</style>\n",
       "<table border=\"1\" class=\"dataframe\">\n",
       "  <thead>\n",
       "    <tr style=\"text-align: right;\">\n",
       "      <th></th>\n",
       "      <th>Age</th>\n",
       "      <th>Risk Factors</th>\n",
       "      <th>COVID19 Status</th>\n",
       "      <th>Cough</th>\n",
       "      <th>Loss of Taste or Smell</th>\n",
       "      <th>Tested Result</th>\n",
       "    </tr>\n",
       "  </thead>\n",
       "  <tbody>\n",
       "    <tr>\n",
       "      <th>0</th>\n",
       "      <td>2</td>\n",
       "      <td>0</td>\n",
       "      <td>2</td>\n",
       "      <td>1</td>\n",
       "      <td>0</td>\n",
       "      <td>1</td>\n",
       "    </tr>\n",
       "    <tr>\n",
       "      <th>1</th>\n",
       "      <td>2</td>\n",
       "      <td>0</td>\n",
       "      <td>1</td>\n",
       "      <td>0</td>\n",
       "      <td>1</td>\n",
       "      <td>1</td>\n",
       "    </tr>\n",
       "    <tr>\n",
       "      <th>2</th>\n",
       "      <td>1</td>\n",
       "      <td>0</td>\n",
       "      <td>1</td>\n",
       "      <td>0</td>\n",
       "      <td>1</td>\n",
       "      <td>0</td>\n",
       "    </tr>\n",
       "    <tr>\n",
       "      <th>3</th>\n",
       "      <td>2</td>\n",
       "      <td>0</td>\n",
       "      <td>0</td>\n",
       "      <td>0</td>\n",
       "      <td>1</td>\n",
       "      <td>2</td>\n",
       "    </tr>\n",
       "    <tr>\n",
       "      <th>4</th>\n",
       "      <td>2</td>\n",
       "      <td>0</td>\n",
       "      <td>3</td>\n",
       "      <td>0</td>\n",
       "      <td>0</td>\n",
       "      <td>1</td>\n",
       "    </tr>\n",
       "  </tbody>\n",
       "</table>\n",
       "</div>"
      ],
      "text/plain": [
       "   Age  Risk Factors  COVID19 Status  Cough  Loss of Taste or Smell  \\\n",
       "0    2             0               2      1                       0   \n",
       "1    2             0               1      0                       1   \n",
       "2    1             0               1      0                       1   \n",
       "3    2             0               0      0                       1   \n",
       "4    2             0               3      0                       0   \n",
       "\n",
       "   Tested Result  \n",
       "0              1  \n",
       "1              1  \n",
       "2              0  \n",
       "3              2  \n",
       "4              1  "
      ]
     },
     "execution_count": 4,
     "metadata": {},
     "output_type": "execute_result"
    }
   ],
   "source": [
    "data.head()"
   ]
  },
  {
   "cell_type": "code",
   "execution_count": 5,
   "metadata": {},
   "outputs": [
    {
     "data": {
      "text/plain": [
       "[<TabularCPD representing P(Age:3) at 0x1f29389a820>,\n",
       " <TabularCPD representing P(COVID19 Status:4 | Age:3, Risk Factors:3) at 0x1f29389a9d0>,\n",
       " <TabularCPD representing P(Risk Factors:3) at 0x1f29389a250>,\n",
       " <TabularCPD representing P(Loss of Taste or Smell:2 | COVID19 Status:4) at 0x1f29389a370>,\n",
       " <TabularCPD representing P(Cough:2 | COVID19 Status:4) at 0x1f29389d280>,\n",
       " <TabularCPD representing P(Tested Result:3 | COVID19 Status:4) at 0x1f29389d1f0>]"
      ]
     },
     "execution_count": 5,
     "metadata": {},
     "output_type": "execute_result"
    }
   ],
   "source": [
    "model = BayesianNetwork(\n",
    "    [('Age', 'COVID19 Status'), \n",
    "     ('Risk Factors', 'COVID19 Status'), \n",
    "     ('COVID19 Status', 'Loss of Taste or Smell'), \n",
    "     ('COVID19 Status', 'Cough'), \n",
    "     ('COVID19 Status', 'Tested Result')]\n",
    ")\n",
    "\n",
    "model.fit(data)\n",
    "model.get_cpds()"
   ]
  },
  {
   "cell_type": "code",
   "execution_count": 13,
   "metadata": {},
   "outputs": [],
   "source": [
    "infer1 = VariableElimination(model)\n",
    "infer2 = ApproxInference(model)"
   ]
  },
  {
   "cell_type": "code",
   "execution_count": 7,
   "metadata": {},
   "outputs": [
    {
     "name": "stdout",
     "output_type": "stream",
     "text": [
      "+-----------------+---------------------+\n",
      "| Risk Factors    |   phi(Risk Factors) |\n",
      "+=================+=====================+\n",
      "| Risk Factors(0) |              0.5870 |\n",
      "+-----------------+---------------------+\n",
      "| Risk Factors(1) |              0.3025 |\n",
      "+-----------------+---------------------+\n",
      "| Risk Factors(2) |              0.1105 |\n",
      "+-----------------+---------------------+\n"
     ]
    }
   ],
   "source": [
    "print(infer1.query(variables=['Risk Factors'], evidence={\"Loss of Taste or Smell\": 1, \"Cough\":0}))"
   ]
  },
  {
   "cell_type": "code",
   "execution_count": 14,
   "metadata": {},
   "outputs": [
    {
     "name": "stderr",
     "output_type": "stream",
     "text": [
      "100%|██████████| 100000/100000 [00:00<00:00, 126512.53it/s]"
     ]
    },
    {
     "name": "stdout",
     "output_type": "stream",
     "text": [
      "+-----------------+---------------------+\n",
      "| Risk Factors    |   phi(Risk Factors) |\n",
      "+=================+=====================+\n",
      "| Risk Factors(2) |              0.1094 |\n",
      "+-----------------+---------------------+\n",
      "| Risk Factors(0) |              0.5884 |\n",
      "+-----------------+---------------------+\n",
      "| Risk Factors(1) |              0.3022 |\n",
      "+-----------------+---------------------+\n"
     ]
    },
    {
     "name": "stderr",
     "output_type": "stream",
     "text": [
      "\n"
     ]
    }
   ],
   "source": [
    "print(infer2.query(variables=['Risk Factors'], n_samples=100000, \n",
    "                   evidence={\"Loss of Taste or Smell\": 1, \"Cough\":0}))"
   ]
  },
  {
   "cell_type": "code",
   "execution_count": 8,
   "metadata": {},
   "outputs": [
    {
     "name": "stderr",
     "output_type": "stream",
     "text": [
      "Finding Elimination Order: : : 0it [00:00, ?it/s]\n",
      "0it [00:00, ?it/s]"
     ]
    },
    {
     "name": "stdout",
     "output_type": "stream",
     "text": [
      "{'Tested Result': 1, 'Loss of Taste or Smell': 0, 'COVID19 Status': 2, 'Risk Factors': 0}\n"
     ]
    },
    {
     "name": "stderr",
     "output_type": "stream",
     "text": [
      "\n"
     ]
    }
   ],
   "source": [
    "print(infer1.map_query(variables=['COVID19 Status', \n",
    "                                 'Risk Factors', \n",
    "                                 'Loss of Taste or Smell', \n",
    "                                 'Tested Result'], evidence={\"Age\": 1, \"Cough\":1}))"
   ]
  },
  {
   "cell_type": "code",
   "execution_count": null,
   "metadata": {},
   "outputs": [],
   "source": []
  },
  {
   "cell_type": "code",
   "execution_count": null,
   "metadata": {},
   "outputs": [],
   "source": []
  }
 ],
 "metadata": {
  "kernelspec": {
   "display_name": "lightGCN-gUtlu06Z",
   "language": "python",
   "name": "python3"
  },
  "language_info": {
   "codemirror_mode": {
    "name": "ipython",
    "version": 3
   },
   "file_extension": ".py",
   "mimetype": "text/x-python",
   "name": "python",
   "nbconvert_exporter": "python",
   "pygments_lexer": "ipython3",
   "version": "3.9.7"
  },
  "orig_nbformat": 4,
  "vscode": {
   "interpreter": {
    "hash": "325292985d3ad1e62081d18f08bb7be2c5c1e3d2443cbcaf01d6b8e3350b3168"
   }
  }
 },
 "nbformat": 4,
 "nbformat_minor": 2
}
