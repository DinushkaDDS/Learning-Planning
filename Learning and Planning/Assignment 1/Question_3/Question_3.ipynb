{
 "cells": [
  {
   "cell_type": "code",
   "execution_count": 1,
   "metadata": {},
   "outputs": [],
   "source": [
    "import pandas as pd\n",
    "import numpy as np"
   ]
  },
  {
   "cell_type": "code",
   "execution_count": 2,
   "metadata": {},
   "outputs": [],
   "source": [
    "data = pd.read_csv('simulated_data.csv')"
   ]
  },
  {
   "cell_type": "code",
   "execution_count": 3,
   "metadata": {},
   "outputs": [
    {
     "data": {
      "text/plain": [
       "1000"
      ]
     },
     "execution_count": 3,
     "metadata": {},
     "output_type": "execute_result"
    }
   ],
   "source": [
    "TOTAL_DATA_COUNT = len(data)\n",
    "TOTAL_DATA_COUNT"
   ]
  },
  {
   "cell_type": "code",
   "execution_count": 4,
   "metadata": {},
   "outputs": [
    {
     "data": {
      "text/html": [
       "<div>\n",
       "<style scoped>\n",
       "    .dataframe tbody tr th:only-of-type {\n",
       "        vertical-align: middle;\n",
       "    }\n",
       "\n",
       "    .dataframe tbody tr th {\n",
       "        vertical-align: top;\n",
       "    }\n",
       "\n",
       "    .dataframe thead th {\n",
       "        text-align: right;\n",
       "    }\n",
       "</style>\n",
       "<table border=\"1\" class=\"dataframe\">\n",
       "  <thead>\n",
       "    <tr style=\"text-align: right;\">\n",
       "      <th></th>\n",
       "      <th>Age</th>\n",
       "      <th>Risk Factors</th>\n",
       "      <th>COVID19 Status</th>\n",
       "      <th>Cough</th>\n",
       "      <th>Loss of Taste or Smell</th>\n",
       "      <th>Tested Result</th>\n",
       "    </tr>\n",
       "  </thead>\n",
       "  <tbody>\n",
       "    <tr>\n",
       "      <th>0</th>\n",
       "      <td>2</td>\n",
       "      <td>0</td>\n",
       "      <td>2</td>\n",
       "      <td>1</td>\n",
       "      <td>0</td>\n",
       "      <td>1</td>\n",
       "    </tr>\n",
       "    <tr>\n",
       "      <th>1</th>\n",
       "      <td>2</td>\n",
       "      <td>0</td>\n",
       "      <td>1</td>\n",
       "      <td>0</td>\n",
       "      <td>1</td>\n",
       "      <td>1</td>\n",
       "    </tr>\n",
       "    <tr>\n",
       "      <th>2</th>\n",
       "      <td>1</td>\n",
       "      <td>0</td>\n",
       "      <td>1</td>\n",
       "      <td>0</td>\n",
       "      <td>1</td>\n",
       "      <td>0</td>\n",
       "    </tr>\n",
       "    <tr>\n",
       "      <th>3</th>\n",
       "      <td>2</td>\n",
       "      <td>0</td>\n",
       "      <td>0</td>\n",
       "      <td>0</td>\n",
       "      <td>1</td>\n",
       "      <td>2</td>\n",
       "    </tr>\n",
       "    <tr>\n",
       "      <th>4</th>\n",
       "      <td>2</td>\n",
       "      <td>0</td>\n",
       "      <td>3</td>\n",
       "      <td>0</td>\n",
       "      <td>0</td>\n",
       "      <td>1</td>\n",
       "    </tr>\n",
       "  </tbody>\n",
       "</table>\n",
       "</div>"
      ],
      "text/plain": [
       "   Age  Risk Factors  COVID19 Status  Cough  Loss of Taste or Smell  \\\n",
       "0    2             0               2      1                       0   \n",
       "1    2             0               1      0                       1   \n",
       "2    1             0               1      0                       1   \n",
       "3    2             0               0      0                       1   \n",
       "4    2             0               3      0                       0   \n",
       "\n",
       "   Tested Result  \n",
       "0              1  \n",
       "1              1  \n",
       "2              0  \n",
       "3              2  \n",
       "4              1  "
      ]
     },
     "execution_count": 4,
     "metadata": {},
     "output_type": "execute_result"
    }
   ],
   "source": [
    "data.head()"
   ]
  },
  {
   "attachments": {},
   "cell_type": "markdown",
   "metadata": {},
   "source": [
    "### Local Probability table for \"Age\"\n",
    "\n",
    "Age does not depend on any of the other variables. Hence table can be calculated based on the column and target variable.\n",
    "\n",
    "Count all number of times each age category occured and divide by the total number of samples to get the probabilities."
   ]
  },
  {
   "cell_type": "code",
   "execution_count": 5,
   "metadata": {},
   "outputs": [
    {
     "data": {
      "text/plain": [
       "Age\n",
       "0    0.095\n",
       "1    0.320\n",
       "2    0.585\n",
       "dtype: float64"
      ]
     },
     "execution_count": 5,
     "metadata": {},
     "output_type": "execute_result"
    }
   ],
   "source": [
    "age_df = data[['Age']]\n",
    "age_dist = age_df.pivot_table(index='Age' , aggfunc=\"size\", fill_value=0).T/TOTAL_DATA_COUNT\n",
    "age_dist"
   ]
  },
  {
   "attachments": {},
   "cell_type": "markdown",
   "metadata": {},
   "source": [
    "### Local Probability table for \"Risk Factors\"\n",
    "\n",
    "Risk Factors does not depend on any of the other variables. Hence table can be calculated based on the column and target variable.\n",
    "\n",
    "Count all number of times each category occured and divide by the total number of samples to get the probabilities."
   ]
  },
  {
   "cell_type": "code",
   "execution_count": 6,
   "metadata": {},
   "outputs": [
    {
     "data": {
      "text/plain": [
       "Risk Factors\n",
       "0    0.621\n",
       "1    0.265\n",
       "2    0.114\n",
       "dtype: float64"
      ]
     },
     "execution_count": 6,
     "metadata": {},
     "output_type": "execute_result"
    }
   ],
   "source": [
    "risk_df = data[['Risk Factors']]\n",
    "risk_dist = risk_df.pivot_table(index='Risk Factors' , aggfunc=\"size\", fill_value=0).T/TOTAL_DATA_COUNT\n",
    "risk_dist"
   ]
  },
  {
   "attachments": {},
   "cell_type": "markdown",
   "metadata": {},
   "source": [
    "### Local Probability table for \"Covid19 Status\"\n",
    "\n",
    "Covid19 Status depends on both Age and Risk Factor values. Hence probability values are conditional and need to be calculated considering the categories of dependent values.\n",
    "\n",
    "Group samples by the (Age, Risk Factors) and count Covid19 status within each group. Then divide the counts by the total samples in each group to get the probabilities."
   ]
  },
  {
   "cell_type": "code",
   "execution_count": 7,
   "metadata": {},
   "outputs": [
    {
     "data": {
      "text/html": [
       "<div>\n",
       "<style scoped>\n",
       "    .dataframe tbody tr th:only-of-type {\n",
       "        vertical-align: middle;\n",
       "    }\n",
       "\n",
       "    .dataframe tbody tr th {\n",
       "        vertical-align: top;\n",
       "    }\n",
       "\n",
       "    .dataframe thead th {\n",
       "        text-align: right;\n",
       "    }\n",
       "</style>\n",
       "<table border=\"1\" class=\"dataframe\">\n",
       "  <thead>\n",
       "    <tr style=\"text-align: right;\">\n",
       "      <th></th>\n",
       "      <th>COVID19 Status</th>\n",
       "      <th>0</th>\n",
       "      <th>1</th>\n",
       "      <th>2</th>\n",
       "      <th>3</th>\n",
       "    </tr>\n",
       "    <tr>\n",
       "      <th>Age</th>\n",
       "      <th>Risk Factors</th>\n",
       "      <th></th>\n",
       "      <th></th>\n",
       "      <th></th>\n",
       "      <th></th>\n",
       "    </tr>\n",
       "  </thead>\n",
       "  <tbody>\n",
       "    <tr>\n",
       "      <th rowspan=\"3\" valign=\"top\">0</th>\n",
       "      <th>0</th>\n",
       "      <td>0.215385</td>\n",
       "      <td>0.553846</td>\n",
       "      <td>0.123077</td>\n",
       "      <td>0.107692</td>\n",
       "    </tr>\n",
       "    <tr>\n",
       "      <th>1</th>\n",
       "      <td>0.047619</td>\n",
       "      <td>0.333333</td>\n",
       "      <td>0.047619</td>\n",
       "      <td>0.571429</td>\n",
       "    </tr>\n",
       "    <tr>\n",
       "      <th>2</th>\n",
       "      <td>0.333333</td>\n",
       "      <td>0.222222</td>\n",
       "      <td>0.222222</td>\n",
       "      <td>0.222222</td>\n",
       "    </tr>\n",
       "    <tr>\n",
       "      <th rowspan=\"3\" valign=\"top\">1</th>\n",
       "      <th>0</th>\n",
       "      <td>0.331658</td>\n",
       "      <td>0.065327</td>\n",
       "      <td>0.381910</td>\n",
       "      <td>0.221106</td>\n",
       "    </tr>\n",
       "    <tr>\n",
       "      <th>1</th>\n",
       "      <td>0.493976</td>\n",
       "      <td>0.313253</td>\n",
       "      <td>0.084337</td>\n",
       "      <td>0.108434</td>\n",
       "    </tr>\n",
       "    <tr>\n",
       "      <th>2</th>\n",
       "      <td>0.289474</td>\n",
       "      <td>0.263158</td>\n",
       "      <td>0.368421</td>\n",
       "      <td>0.078947</td>\n",
       "    </tr>\n",
       "    <tr>\n",
       "      <th rowspan=\"3\" valign=\"top\">2</th>\n",
       "      <th>0</th>\n",
       "      <td>0.207283</td>\n",
       "      <td>0.187675</td>\n",
       "      <td>0.400560</td>\n",
       "      <td>0.204482</td>\n",
       "    </tr>\n",
       "    <tr>\n",
       "      <th>1</th>\n",
       "      <td>0.440994</td>\n",
       "      <td>0.248447</td>\n",
       "      <td>0.086957</td>\n",
       "      <td>0.223602</td>\n",
       "    </tr>\n",
       "    <tr>\n",
       "      <th>2</th>\n",
       "      <td>0.149254</td>\n",
       "      <td>0.208955</td>\n",
       "      <td>0.253731</td>\n",
       "      <td>0.388060</td>\n",
       "    </tr>\n",
       "  </tbody>\n",
       "</table>\n",
       "</div>"
      ],
      "text/plain": [
       "COVID19 Status           0         1         2         3\n",
       "Age Risk Factors                                        \n",
       "0   0             0.215385  0.553846  0.123077  0.107692\n",
       "    1             0.047619  0.333333  0.047619  0.571429\n",
       "    2             0.333333  0.222222  0.222222  0.222222\n",
       "1   0             0.331658  0.065327  0.381910  0.221106\n",
       "    1             0.493976  0.313253  0.084337  0.108434\n",
       "    2             0.289474  0.263158  0.368421  0.078947\n",
       "2   0             0.207283  0.187675  0.400560  0.204482\n",
       "    1             0.440994  0.248447  0.086957  0.223602\n",
       "    2             0.149254  0.208955  0.253731  0.388060"
      ]
     },
     "execution_count": 7,
     "metadata": {},
     "output_type": "execute_result"
    }
   ],
   "source": [
    "cov19_df = data[['Age', 'Risk Factors', 'COVID19 Status']]\n",
    "temp = cov19_df.pivot_table(index='COVID19 Status',columns=['Age', 'Risk Factors'], aggfunc=\"size\", fill_value=0)\n",
    "\n",
    "covid19_dist = temp.div(temp.sum()).T\n",
    "covid19_dist"
   ]
  },
  {
   "attachments": {},
   "cell_type": "markdown",
   "metadata": {},
   "source": [
    "### Local Probability table for \"Loss of Taste or Smell\"\n",
    "\n",
    "Loss of Taste or Smell depends on Covid19 Status values. Hence probability values are conditional and need to be calculated considering the categories of dependent values."
   ]
  },
  {
   "cell_type": "code",
   "execution_count": 8,
   "metadata": {},
   "outputs": [
    {
     "data": {
      "text/html": [
       "<div>\n",
       "<style scoped>\n",
       "    .dataframe tbody tr th:only-of-type {\n",
       "        vertical-align: middle;\n",
       "    }\n",
       "\n",
       "    .dataframe tbody tr th {\n",
       "        vertical-align: top;\n",
       "    }\n",
       "\n",
       "    .dataframe thead th {\n",
       "        text-align: right;\n",
       "    }\n",
       "</style>\n",
       "<table border=\"1\" class=\"dataframe\">\n",
       "  <thead>\n",
       "    <tr style=\"text-align: right;\">\n",
       "      <th>Loss of Taste or Smell</th>\n",
       "      <th>0</th>\n",
       "      <th>1</th>\n",
       "    </tr>\n",
       "    <tr>\n",
       "      <th>COVID19 Status</th>\n",
       "      <th></th>\n",
       "      <th></th>\n",
       "    </tr>\n",
       "  </thead>\n",
       "  <tbody>\n",
       "    <tr>\n",
       "      <th>0</th>\n",
       "      <td>0.233677</td>\n",
       "      <td>0.766323</td>\n",
       "    </tr>\n",
       "    <tr>\n",
       "      <th>1</th>\n",
       "      <td>0.120930</td>\n",
       "      <td>0.879070</td>\n",
       "    </tr>\n",
       "    <tr>\n",
       "      <th>2</th>\n",
       "      <td>0.521277</td>\n",
       "      <td>0.478723</td>\n",
       "    </tr>\n",
       "    <tr>\n",
       "      <th>3</th>\n",
       "      <td>0.306604</td>\n",
       "      <td>0.693396</td>\n",
       "    </tr>\n",
       "  </tbody>\n",
       "</table>\n",
       "</div>"
      ],
      "text/plain": [
       "Loss of Taste or Smell         0         1\n",
       "COVID19 Status                            \n",
       "0                       0.233677  0.766323\n",
       "1                       0.120930  0.879070\n",
       "2                       0.521277  0.478723\n",
       "3                       0.306604  0.693396"
      ]
     },
     "execution_count": 8,
     "metadata": {},
     "output_type": "execute_result"
    }
   ],
   "source": [
    "taste_df = data[['Loss of Taste or Smell', 'COVID19 Status']]\n",
    "temp = taste_df.pivot_table(index='Loss of Taste or Smell',columns=['COVID19 Status'], aggfunc=\"size\", fill_value=0)\n",
    "\n",
    "taste_dist = temp.div(temp.sum()).T\n",
    "taste_dist"
   ]
  },
  {
   "attachments": {},
   "cell_type": "markdown",
   "metadata": {},
   "source": [
    "### Local Probability table for \"Cough\"\n",
    "\n",
    "Cough depends on Covid19 Status values. Hence probability values are conditional and need to be calculated considering the categories of dependent values."
   ]
  },
  {
   "cell_type": "code",
   "execution_count": 9,
   "metadata": {},
   "outputs": [
    {
     "data": {
      "text/html": [
       "<div>\n",
       "<style scoped>\n",
       "    .dataframe tbody tr th:only-of-type {\n",
       "        vertical-align: middle;\n",
       "    }\n",
       "\n",
       "    .dataframe tbody tr th {\n",
       "        vertical-align: top;\n",
       "    }\n",
       "\n",
       "    .dataframe thead th {\n",
       "        text-align: right;\n",
       "    }\n",
       "</style>\n",
       "<table border=\"1\" class=\"dataframe\">\n",
       "  <thead>\n",
       "    <tr style=\"text-align: right;\">\n",
       "      <th>Cough</th>\n",
       "      <th>0</th>\n",
       "      <th>1</th>\n",
       "    </tr>\n",
       "    <tr>\n",
       "      <th>COVID19 Status</th>\n",
       "      <th></th>\n",
       "      <th></th>\n",
       "    </tr>\n",
       "  </thead>\n",
       "  <tbody>\n",
       "    <tr>\n",
       "      <th>0</th>\n",
       "      <td>0.804124</td>\n",
       "      <td>0.195876</td>\n",
       "    </tr>\n",
       "    <tr>\n",
       "      <th>1</th>\n",
       "      <td>0.437209</td>\n",
       "      <td>0.562791</td>\n",
       "    </tr>\n",
       "    <tr>\n",
       "      <th>2</th>\n",
       "      <td>0.492908</td>\n",
       "      <td>0.507092</td>\n",
       "    </tr>\n",
       "    <tr>\n",
       "      <th>3</th>\n",
       "      <td>0.688679</td>\n",
       "      <td>0.311321</td>\n",
       "    </tr>\n",
       "  </tbody>\n",
       "</table>\n",
       "</div>"
      ],
      "text/plain": [
       "Cough                  0         1\n",
       "COVID19 Status                    \n",
       "0               0.804124  0.195876\n",
       "1               0.437209  0.562791\n",
       "2               0.492908  0.507092\n",
       "3               0.688679  0.311321"
      ]
     },
     "execution_count": 9,
     "metadata": {},
     "output_type": "execute_result"
    }
   ],
   "source": [
    "cough_df = data[['Cough', 'COVID19 Status']]\n",
    "temp = cough_df.pivot_table(index='Cough',columns=['COVID19 Status'], aggfunc=\"size\", fill_value=0)\n",
    "\n",
    "cough_dist = temp.div(temp.sum()).T\n",
    "cough_dist"
   ]
  },
  {
   "attachments": {},
   "cell_type": "markdown",
   "metadata": {},
   "source": [
    "### Local Probability table for \"TestedResults\"\n",
    "\n",
    "TestedResults depends on Covid19 Status values. Hence probability values are conditional and need to be calculated considering the categories of dependent values."
   ]
  },
  {
   "cell_type": "code",
   "execution_count": 10,
   "metadata": {},
   "outputs": [
    {
     "data": {
      "text/html": [
       "<div>\n",
       "<style scoped>\n",
       "    .dataframe tbody tr th:only-of-type {\n",
       "        vertical-align: middle;\n",
       "    }\n",
       "\n",
       "    .dataframe tbody tr th {\n",
       "        vertical-align: top;\n",
       "    }\n",
       "\n",
       "    .dataframe thead th {\n",
       "        text-align: right;\n",
       "    }\n",
       "</style>\n",
       "<table border=\"1\" class=\"dataframe\">\n",
       "  <thead>\n",
       "    <tr style=\"text-align: right;\">\n",
       "      <th>Tested Result</th>\n",
       "      <th>0</th>\n",
       "      <th>1</th>\n",
       "      <th>2</th>\n",
       "    </tr>\n",
       "    <tr>\n",
       "      <th>COVID19 Status</th>\n",
       "      <th></th>\n",
       "      <th></th>\n",
       "      <th></th>\n",
       "    </tr>\n",
       "  </thead>\n",
       "  <tbody>\n",
       "    <tr>\n",
       "      <th>0</th>\n",
       "      <td>0.312715</td>\n",
       "      <td>0.192440</td>\n",
       "      <td>0.494845</td>\n",
       "    </tr>\n",
       "    <tr>\n",
       "      <th>1</th>\n",
       "      <td>0.293023</td>\n",
       "      <td>0.427907</td>\n",
       "      <td>0.279070</td>\n",
       "    </tr>\n",
       "    <tr>\n",
       "      <th>2</th>\n",
       "      <td>0.095745</td>\n",
       "      <td>0.514184</td>\n",
       "      <td>0.390071</td>\n",
       "    </tr>\n",
       "    <tr>\n",
       "      <th>3</th>\n",
       "      <td>0.094340</td>\n",
       "      <td>0.792453</td>\n",
       "      <td>0.113208</td>\n",
       "    </tr>\n",
       "  </tbody>\n",
       "</table>\n",
       "</div>"
      ],
      "text/plain": [
       "Tested Result          0         1         2\n",
       "COVID19 Status                              \n",
       "0               0.312715  0.192440  0.494845\n",
       "1               0.293023  0.427907  0.279070\n",
       "2               0.095745  0.514184  0.390071\n",
       "3               0.094340  0.792453  0.113208"
      ]
     },
     "execution_count": 10,
     "metadata": {},
     "output_type": "execute_result"
    }
   ],
   "source": [
    "testresult_df = data[['Tested Result', 'COVID19 Status']]\n",
    "temp = testresult_df.pivot_table(index='Tested Result',columns=['COVID19 Status'], aggfunc=\"size\", fill_value=0)\n",
    "\n",
    "testresult_dist = temp.div(temp.sum()).T\n",
    "testresult_dist"
   ]
  },
  {
   "attachments": {},
   "cell_type": "markdown",
   "metadata": {},
   "source": [
    "Stochastic Sampling with Likelihood Weighting\n",
    "\n",
    "P(Risk Factors | Loss of Taste or Smell = 1, Cough = 0)\n",
    "\n",
    "Let before variable names denotes the Factors:\n",
    "\n",
    "- L = Loss of taste or smell\n",
    "- C = Cough\n",
    "- R = Risk Factors\n",
    "- CovStatus = Covid19 Status\n",
    "- A = Age\n",
    "- T = Tested Results"
   ]
  },
  {
   "cell_type": "code",
   "execution_count": 11,
   "metadata": {},
   "outputs": [],
   "source": [
    "NUM_SAMPLES_TO_GENERATE = 100000\n",
    "\n",
    "rng = np.random.default_rng(19951115)"
   ]
  },
  {
   "cell_type": "code",
   "execution_count": 12,
   "metadata": {},
   "outputs": [],
   "source": [
    "generated_samples = []\n",
    "sample_weights = []\n",
    "\n",
    "for _ in range(NUM_SAMPLES_TO_GENERATE):\n",
    "    weight = 1\n",
    "    L = 1 # Evidence\n",
    "    C = 0 # Evidence\n",
    "\n",
    "    A = age_dist.sample(n=1, weights=age_dist, random_state=rng).index[0] # Integer value denoting the category\n",
    "    R = risk_dist.sample(n=1, weights=risk_dist, random_state=rng).index[0] # Integer value denoting the category\n",
    "\n",
    "    cov_possible_samples = covid19_dist.loc[(A, R)] # this is a series with index\n",
    "    CovStatus = cov_possible_samples.sample(n=1, weights=cov_possible_samples, random_state=rng).index[0] # Integer value denoting the category\n",
    "\n",
    "    # weighting due to Cough evidence P(cough =0 | covidstatus)\n",
    "    cough_weights = cough_dist.loc[CovStatus] # Selecting cough possible samples\n",
    "    weight = weight * cough_weights.loc[C]\n",
    "\n",
    "    # weighting due to Loss of Taste or Smell evidence P(Loss of Taste or Smell = 1 | covidstatus)\n",
    "    taste_weights = taste_dist.loc[CovStatus] # Selecting cough possible samples\n",
    "    weight = weight * taste_weights.loc[L]\n",
    "\n",
    "    testresult_possible_sample = testresult_dist.loc[CovStatus]\n",
    "    T = testresult_possible_sample.sample(n=1, weights=testresult_possible_sample, random_state=rng).index[0]\n",
    "\n",
    "    generated_samples.append((A, R, CovStatus, L, C, T))\n",
    "    sample_weights.append(weight)\n"
   ]
  },
  {
   "cell_type": "code",
   "execution_count": 13,
   "metadata": {},
   "outputs": [],
   "source": [
    "# Calculating the probability distribution based on the sampled ewight values.\n",
    "total_weight = 0\n",
    "risk_factors_dict = [0, 0, 0]\n",
    "for s, w in zip(generated_samples, sample_weights):\n",
    "    r = s[1]\n",
    "    risk_factors_dict[r] += w\n",
    "    total_weight += w\n",
    "\n",
    "Asked_probability = risk_factors_dict/total_weight"
   ]
  },
  {
   "cell_type": "code",
   "execution_count": 14,
   "metadata": {},
   "outputs": [
    {
     "data": {
      "text/plain": [
       "array([0.58760363, 0.30105133, 0.11134504])"
      ]
     },
     "execution_count": 14,
     "metadata": {},
     "output_type": "execute_result"
    }
   ],
   "source": [
    "Asked_probability"
   ]
  },
  {
   "cell_type": "code",
   "execution_count": null,
   "metadata": {},
   "outputs": [],
   "source": []
  },
  {
   "cell_type": "code",
   "execution_count": null,
   "metadata": {},
   "outputs": [],
   "source": []
  },
  {
   "cell_type": "code",
   "execution_count": null,
   "metadata": {},
   "outputs": [],
   "source": []
  },
  {
   "cell_type": "code",
   "execution_count": null,
   "metadata": {},
   "outputs": [],
   "source": []
  },
  {
   "cell_type": "code",
   "execution_count": null,
   "metadata": {},
   "outputs": [],
   "source": []
  },
  {
   "cell_type": "code",
   "execution_count": null,
   "metadata": {},
   "outputs": [],
   "source": []
  }
 ],
 "metadata": {
  "kernelspec": {
   "display_name": "lightGCN-gUtlu06Z",
   "language": "python",
   "name": "python3"
  },
  "language_info": {
   "codemirror_mode": {
    "name": "ipython",
    "version": 3
   },
   "file_extension": ".py",
   "mimetype": "text/x-python",
   "name": "python",
   "nbconvert_exporter": "python",
   "pygments_lexer": "ipython3",
   "version": "3.9.7"
  },
  "orig_nbformat": 4,
  "vscode": {
   "interpreter": {
    "hash": "325292985d3ad1e62081d18f08bb7be2c5c1e3d2443cbcaf01d6b8e3350b3168"
   }
  }
 },
 "nbformat": 4,
 "nbformat_minor": 2
}
