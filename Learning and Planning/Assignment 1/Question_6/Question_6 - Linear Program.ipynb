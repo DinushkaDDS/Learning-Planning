{
 "cells": [
  {
   "cell_type": "code",
   "execution_count": 192,
   "metadata": {},
   "outputs": [],
   "source": [
    "import cvxpy as cp\n",
    "import numpy as np"
   ]
  },
  {
   "cell_type": "code",
   "execution_count": 193,
   "metadata": {},
   "outputs": [
    {
     "data": {
      "text/plain": [
       "array([32.45984984, 33.60654623, 34.85305452, 27.74316124])"
      ]
     },
     "execution_count": 193,
     "metadata": {},
     "output_type": "execute_result"
    }
   ],
   "source": [
    "DISCOUNT_FACTOR = 0.95\n",
    "\n",
    "DELIVER_PROBS = np.array([\n",
    "    [0.75, 0.075, 0.1, 0.075],\n",
    "    [0.15, 0.7, 0.06, 0.09],\n",
    "    [0.14, 0.105, 0.65, 0.105],\n",
    "    [0.05, 0.025, 0.025, 0.9]\n",
    "])\n",
    "\n",
    "WAIT_PROBS = np.identity(4)\n",
    "\n",
    "TRAVELLING_COST = np.array([\n",
    "    [0, 1.5, 2.0, 2.5],\n",
    "    [1.0, 0, 1.8, 2.2],\n",
    "    [1.8, 1.5, 0, 1.2],\n",
    "    [2.0, 1.8, 1.0, 0]\n",
    "])\n",
    "\n",
    "SOURCE_DESC_WITH_PACKAGE_FEE = np.array([\n",
    "    [0, 12, 8, 6],\n",
    "    [10, 0, 7, 9],\n",
    "    [14, 9, 0, 5],\n",
    "    [15, 7, 4, 0]\n",
    "])\n",
    "\n",
    "reward = SOURCE_DESC_WITH_PACKAGE_FEE  - TRAVELLING_COST\n",
    "\n",
    "V = cp.Variable(4)\n",
    "\n",
    "# Objective is to minimize the sum over V values\n",
    "objective =cp.Minimize(cp.sum(V))\n",
    "\n",
    "# Building the Constraints\n",
    "constraints_wait_action = []\n",
    "constraints_deliver_action = []\n",
    "for s in range(4):\n",
    "\n",
    "    temp_wait = 0\n",
    "    temp_deliver = 0\n",
    "\n",
    "    for s_prime in range(4):\n",
    "        #For wait action reward is zero\n",
    "        temp_wait += WAIT_PROBS[s, s_prime]*(0.0 + DISCOUNT_FACTOR*V[s_prime])        \n",
    "        temp_deliver += DELIVER_PROBS[s, s_prime]*(reward[s, s_prime] + DISCOUNT_FACTOR*V[s_prime])\n",
    "    \n",
    "    constraints_wait_action.append(V[s]>=temp_wait)\n",
    "    constraints_deliver_action.append(V[s]>=temp_deliver)\n",
    "\n",
    "constraints = constraints_wait_action + constraints_deliver_action\n",
    "\n",
    "prob = cp.Problem(objective, constraints)\n",
    "result = prob.solve()\n",
    "V.value"
   ]
  },
  {
   "cell_type": "code",
   "execution_count": null,
   "metadata": {},
   "outputs": [],
   "source": []
  },
  {
   "cell_type": "code",
   "execution_count": null,
   "metadata": {},
   "outputs": [],
   "source": []
  },
  {
   "cell_type": "code",
   "execution_count": null,
   "metadata": {},
   "outputs": [],
   "source": []
  },
  {
   "cell_type": "code",
   "execution_count": null,
   "metadata": {},
   "outputs": [],
   "source": []
  },
  {
   "cell_type": "code",
   "execution_count": null,
   "metadata": {},
   "outputs": [],
   "source": []
  },
  {
   "cell_type": "code",
   "execution_count": null,
   "metadata": {},
   "outputs": [],
   "source": []
  },
  {
   "cell_type": "code",
   "execution_count": null,
   "metadata": {},
   "outputs": [],
   "source": []
  },
  {
   "cell_type": "code",
   "execution_count": null,
   "metadata": {},
   "outputs": [],
   "source": []
  },
  {
   "cell_type": "code",
   "execution_count": null,
   "metadata": {},
   "outputs": [],
   "source": []
  },
  {
   "cell_type": "code",
   "execution_count": null,
   "metadata": {},
   "outputs": [],
   "source": []
  }
 ],
 "metadata": {
  "kernelspec": {
   "display_name": "lightGCN-gUtlu06Z",
   "language": "python",
   "name": "python3"
  },
  "language_info": {
   "codemirror_mode": {
    "name": "ipython",
    "version": 3
   },
   "file_extension": ".py",
   "mimetype": "text/x-python",
   "name": "python",
   "nbconvert_exporter": "python",
   "pygments_lexer": "ipython3",
   "version": "3.9.7"
  },
  "orig_nbformat": 4,
  "vscode": {
   "interpreter": {
    "hash": "325292985d3ad1e62081d18f08bb7be2c5c1e3d2443cbcaf01d6b8e3350b3168"
   }
  }
 },
 "nbformat": 4,
 "nbformat_minor": 2
}
