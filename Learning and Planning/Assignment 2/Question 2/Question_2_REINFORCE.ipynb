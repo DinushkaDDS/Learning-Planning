{
 "cells": [
  {
   "cell_type": "code",
   "execution_count": 1,
   "metadata": {},
   "outputs": [],
   "source": [
    "%load_ext autoreload\n",
    "%autoreload 2"
   ]
  },
  {
   "cell_type": "code",
   "execution_count": 2,
   "metadata": {},
   "outputs": [],
   "source": [
    "%matplotlib inline"
   ]
  },
  {
   "cell_type": "code",
   "execution_count": 3,
   "metadata": {},
   "outputs": [],
   "source": [
    "import torch\n",
    "from torch.optim import Adam, Optimizer\n",
    "import numpy as np\n",
    "import gymnasium as gym\n",
    "import ale_py\n",
    "import matplotlib.pyplot as plt\n",
    "\n",
    "from reinforce_implementation import *\n",
    "\n",
    "gym.register_envs(ale_py)\n",
    "\n",
    "from IPython import display"
   ]
  },
  {
   "cell_type": "code",
   "execution_count": 4,
   "metadata": {},
   "outputs": [
    {
     "name": "stdout",
     "output_type": "stream",
     "text": [
      "cuda\n",
      "Sequential(\n",
      "  (0): Linear(in_features=128, out_features=512, bias=True)\n",
      "  (1): LeakyReLU(negative_slope=0.01)\n",
      "  (2): Linear(in_features=512, out_features=256, bias=True)\n",
      "  (3): LeakyReLU(negative_slope=0.01)\n",
      "  (4): Linear(in_features=256, out_features=6, bias=True)\n",
      ")\n"
     ]
    }
   ],
   "source": [
    "env = gym.make(\"ALE/Pong-v5\", obs_type=\"ram\", \n",
    "               frameskip=8) # if we take image observation type Q-net need to be a vision model.\n",
    "\n",
    "# Check if GPU is available\n",
    "device = torch.device(\"cuda\" if torch.cuda.is_available() else \"cpu\")\n",
    "print(device)\n",
    "\n",
    "# Create the MLP model\n",
    "number_observation_features = env.observation_space.shape[0]\n",
    "number_actions = env.action_space.n\n",
    "model = create_model(number_observation_features, number_actions)\n",
    "model.to(device)\n",
    "\n",
    "print(model)"
   ]
  },
  {
   "cell_type": "code",
   "execution_count": 5,
   "metadata": {},
   "outputs": [],
   "source": [
    "# Define training parameters\n",
    "num_trajectories = 20\n",
    "trajectory_length = 30000\n",
    "lr = 1e-4\n",
    "\n",
    "num_epochs = 10000"
   ]
  },
  {
   "cell_type": "code",
   "execution_count": 6,
   "metadata": {},
   "outputs": [],
   "source": [
    "# Create the optimizer\n",
    "optimizer = Adam(model.parameters(), lr)\n",
    "\n",
    "returns = []\n",
    "\n",
    "# Loop for each epoch\n",
    "for epoch in range(num_epochs):\n",
    "    average_return = train_one_epoch(env, \n",
    "                                     model,\n",
    "                                     optimizer,\n",
    "                                     device,\n",
    "                                     num_trajectories=num_trajectories,\n",
    "                                     trajectory_length=trajectory_length)\n",
    "    returns.append(average_return)\n",
    "\n",
    "    print('epoch: %3d \\t return: %.3f' % (epoch, average_return))\n",
    "\n",
    "    plt.plot(returns)\n",
    "    display.display(plt.gcf())\n",
    "    display.clear_output(wait=True)\n"
   ]
  },
  {
   "cell_type": "code",
   "execution_count": null,
   "metadata": {},
   "outputs": [],
   "source": [
    "torch.save(model, \"reinforce_model.ckpt\")"
   ]
  },
  {
   "cell_type": "code",
   "execution_count": null,
   "metadata": {},
   "outputs": [],
   "source": []
  },
  {
   "cell_type": "code",
   "execution_count": null,
   "metadata": {},
   "outputs": [],
   "source": []
  }
 ],
 "metadata": {
  "kernelspec": {
   "display_name": "NanoGPT_Replication-hv70F6NQ",
   "language": "python",
   "name": "python3"
  },
  "language_info": {
   "codemirror_mode": {
    "name": "ipython",
    "version": 3
   },
   "file_extension": ".py",
   "mimetype": "text/x-python",
   "name": "python",
   "nbconvert_exporter": "python",
   "pygments_lexer": "ipython3",
   "version": "3.9.7"
  },
  "orig_nbformat": 4,
  "vscode": {
   "interpreter": {
    "hash": "825f6c2b1cc240db6b01083618b8471d16738eed15146a5e34c568a5f12ecf2c"
   }
  }
 },
 "nbformat": 4,
 "nbformat_minor": 2
}
