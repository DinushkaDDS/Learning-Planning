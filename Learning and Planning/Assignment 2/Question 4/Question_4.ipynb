{
 "cells": [
  {
   "cell_type": "code",
   "execution_count": null,
   "metadata": {},
   "outputs": [],
   "source": [
    "%load_ext autoreload\n",
    "%autoreload 2"
   ]
  },
  {
   "cell_type": "code",
   "execution_count": null,
   "metadata": {},
   "outputs": [],
   "source": [
    "from implementation import *"
   ]
  },
  {
   "attachments": {},
   "cell_type": "markdown",
   "metadata": {},
   "source": [
    "### Testing the Grid World Simulation"
   ]
  },
  {
   "cell_type": "code",
   "execution_count": null,
   "metadata": {},
   "outputs": [],
   "source": [
    "# Test the environment\n",
    "env = DynamicGridWorldEnv(prize_spawn_prob=0.5, \n",
    "                          repair_shop_pos = None,\n",
    "                          monster_spawn_prob = 0.7, \n",
    "                          num_possible_monster_points = 5, \n",
    "                          possible_monster_pos = [])\n",
    "\n",
    "obs = env.reset()\n",
    "print(\"Initial Observation:\", obs)\n",
    "\n",
    "for _ in range(5):\n",
    "    action = env.action_space.sample()  # Random action\n",
    "    obs, reward, done, info = env.step(action)\n",
    "    print(f\"Action: {env.action_map[action]}, Observation: {obs}, Reward: {reward}\")\n",
    "    env.render()"
   ]
  },
  {
   "attachments": {},
   "cell_type": "markdown",
   "metadata": {},
   "source": [
    "### Q-Learning in the Simulator"
   ]
  },
  {
   "cell_type": "code",
   "execution_count": null,
   "metadata": {},
   "outputs": [],
   "source": [
    "# Initialize environment and agent\n",
    "agent = QLearningAgent(state_space=(5, 5, 5, 2), \n",
    "                       action_space=4,\n",
    "                       lr=1e-3,\n",
    "                       gamma=0.9,\n",
    "                       epsilon=1,\n",
    "                       epsilon_decay=0.999,\n",
    "                       epsilon_min=0.001)"
   ]
  },
  {
   "cell_type": "code",
   "execution_count": null,
   "metadata": {},
   "outputs": [],
   "source": [
    "# Train the agent\n",
    "episodes = 50000\n",
    "rewards = train_agent(env, agent, episodes=episodes, max_steps=200)\n",
    "\n",
    "# Plot cumulative rewards\n",
    "plt.plot(rewards)\n",
    "plt.xlabel(\"Episodes\")\n",
    "plt.ylabel(\"Cumulative Reward\")\n",
    "plt.title(\"Agent Performance Over Episodes\")\n",
    "plt.show()\n",
    "\n",
    "print(\"Mean reward per episode\", sum(rewards)/len(rewards))"
   ]
  },
  {
   "cell_type": "code",
   "execution_count": null,
   "metadata": {},
   "outputs": [],
   "source": [
    "# Test the trained agent\n",
    "test_rewards = test_agent(env, agent, episodes=10, max_steps = 200, render=False)\n",
    "print(\"Mean reward per test episode\", sum(test_rewards)/len(test_rewards))"
   ]
  },
  {
   "attachments": {},
   "cell_type": "markdown",
   "metadata": {},
   "source": [
    "### Approximate Q-Learning in the Simulator"
   ]
  },
  {
   "cell_type": "code",
   "execution_count": null,
   "metadata": {},
   "outputs": [],
   "source": [
    "# Initialize environment and approximate Q-learning agent\n",
    "episodes = 10000\n",
    "max_steps = 200\n",
    "lr=1e-3\n",
    "gamma=0.9\n",
    "epsilon=1\n",
    "epsilon_decay=0.999\n",
    "epsilon_min=0.001\n",
    "\n",
    "approx_agent = ApproxQLearningAgent(feature_extractor,\n",
    "                                    env,\n",
    "                                    action_space=4,\n",
    "                       lr=lr,\n",
    "                       gamma=gamma,\n",
    "                       epsilon=epsilon,\n",
    "                       epsilon_decay=epsilon_decay,\n",
    "                       epsilon_min=epsilon_min)\n",
    "\n",
    "# Compare with standard Q-learning\n",
    "standard_agent = QLearningAgent(state_space=(5, 5, 5, 2), \n",
    "                       action_space=4,\n",
    "                       lr=lr,\n",
    "                       gamma=gamma,\n",
    "                       epsilon=epsilon,\n",
    "                       epsilon_decay=epsilon_decay,\n",
    "                       epsilon_min=epsilon_min)"
   ]
  },
  {
   "cell_type": "code",
   "execution_count": null,
   "metadata": {},
   "outputs": [],
   "source": [
    "# Train the approximate Q-learning agent\n",
    "approx_rewards = train_approx_agent(env, approx_agent, episodes, max_steps=max_steps)\n",
    "standard_rewards = train_agent(env, standard_agent, episodes, max_steps=max_steps)\n",
    "\n",
    "# Plot cumulative rewards for comparison\n",
    "plt.plot(approx_rewards, label=\"Approximate Q-Learning\")\n",
    "plt.plot(standard_rewards, label=\"Standard Q-Learning\")\n",
    "plt.xlabel(\"Episodes\")\n",
    "plt.ylabel(\"Cumulative Reward\")\n",
    "plt.title(\"Performance Comparison\")\n",
    "plt.legend()\n",
    "plt.show()\n",
    "\n",
    "\n",
    "print(\"Mean reward per episode - Approximate method:\", sum(approx_rewards)/len(approx_rewards))\n",
    "\n",
    "print(\"Mean reward per episode - Standard method:\", sum(standard_rewards)/len(standard_rewards))\n",
    "\n",
    "# Test the approximate Q-learning agent\n",
    "test_aprox_reward = test_approx_agent(env, approx_agent, episodes=10, max_steps = 200, render=False)\n",
    "print(\"Mean reward per test episode - Approximate method:\", sum(test_aprox_reward)/len(test_aprox_reward))\n",
    "\n",
    "test_standard_reward =  test_agent(env, standard_agent, episodes=10, max_steps = 200, render=False)\n",
    "print(\"Mean reward per test episode - Standard method:\", sum(test_standard_reward)/len(test_standard_reward))"
   ]
  },
  {
   "cell_type": "code",
   "execution_count": null,
   "metadata": {},
   "outputs": [],
   "source": []
  },
  {
   "cell_type": "code",
   "execution_count": null,
   "metadata": {},
   "outputs": [],
   "source": []
  },
  {
   "cell_type": "code",
   "execution_count": null,
   "metadata": {},
   "outputs": [],
   "source": []
  },
  {
   "cell_type": "code",
   "execution_count": null,
   "metadata": {},
   "outputs": [],
   "source": []
  },
  {
   "cell_type": "code",
   "execution_count": null,
   "metadata": {},
   "outputs": [],
   "source": []
  },
  {
   "cell_type": "code",
   "execution_count": null,
   "metadata": {},
   "outputs": [],
   "source": []
  }
 ],
 "metadata": {
  "kernelspec": {
   "display_name": "Python 3",
   "language": "python",
   "name": "python3"
  },
  "language_info": {
   "codemirror_mode": {
    "name": "ipython",
    "version": 3
   },
   "file_extension": ".py",
   "mimetype": "text/x-python",
   "name": "python",
   "nbconvert_exporter": "python",
   "pygments_lexer": "ipython3",
   "version": "3.9.7"
  },
  "orig_nbformat": 4,
  "vscode": {
   "interpreter": {
    "hash": "68acd5d746db9e112a7343296bb3423d1ae6da35b5d50d333630681f8a968c1e"
   }
  }
 },
 "nbformat": 4,
 "nbformat_minor": 2
}
