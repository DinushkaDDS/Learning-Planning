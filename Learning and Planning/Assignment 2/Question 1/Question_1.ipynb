{
 "cells": [
  {
   "cell_type": "code",
   "execution_count": 1,
   "metadata": {},
   "outputs": [],
   "source": [
    "import matplotlib.pyplot as plt\n",
    "from algorithms import *"
   ]
  },
  {
   "cell_type": "code",
   "execution_count": 2,
   "metadata": {},
   "outputs": [],
   "source": [
    "NUM_TRIALS = 1000"
   ]
  },
  {
   "attachments": {},
   "cell_type": "markdown",
   "metadata": {},
   "source": [
    "Implementation of Greedy approach based estimation"
   ]
  },
  {
   "cell_type": "code",
   "execution_count": 3,
   "metadata": {},
   "outputs": [
    {
     "name": "stdout",
     "output_type": "stream",
     "text": [
      "Greedy approach average samples: 572.851\n"
     ]
    }
   ],
   "source": [
    "outputs = []\n",
    "\n",
    "for i in range(NUM_TRIALS):\n",
    "    TRUE_PRODUCT_SALES_PROBABILITIES = np.random.rand(NUM_PRODUCTS)\n",
    "    outputs.append(greedy_approach(TRUE_PRODUCT_SALES_PROBABILITIES))\n",
    "\n",
    "print(\"Greedy approach average samples:\", sum(outputs)/len(outputs))"
   ]
  },
  {
   "attachments": {},
   "cell_type": "markdown",
   "metadata": {},
   "source": [
    "Implementation of Softmax Sampling"
   ]
  },
  {
   "cell_type": "code",
   "execution_count": 5,
   "metadata": {},
   "outputs": [
    {
     "name": "stdout",
     "output_type": "stream",
     "text": [
      "Softmax approach average samples: 563.968\n"
     ]
    }
   ],
   "source": [
    "outputs = []\n",
    "\n",
    "for i in range(NUM_TRIALS):\n",
    "    TRUE_PRODUCT_SALES_PROBABILITIES = np.random.rand(NUM_PRODUCTS)\n",
    "    outputs.append(softmax_sampling(TRUE_PRODUCT_SALES_PROBABILITIES))\n",
    "\n",
    "print(\"Softmax approach average samples:\", sum(outputs)/len(outputs))"
   ]
  },
  {
   "attachments": {},
   "cell_type": "markdown",
   "metadata": {},
   "source": [
    "Implementation of Epsilon-Greedy Approach"
   ]
  },
  {
   "cell_type": "code",
   "execution_count": 4,
   "metadata": {},
   "outputs": [
    {
     "name": "stdout",
     "output_type": "stream",
     "text": [
      "Epsilon-Greedy approach average samples: 769.464\n"
     ]
    }
   ],
   "source": [
    "outputs = []\n",
    "\n",
    "for i in range(NUM_TRIALS):\n",
    "    TRUE_PRODUCT_SALES_PROBABILITIES = np.random.rand(NUM_PRODUCTS)\n",
    "    outputs.append(epsilon_greedy(TRUE_PRODUCT_SALES_PROBABILITIES))\n",
    "\n",
    "print(\"Epsilon-Greedy approach average samples:\", sum(outputs)/len(outputs))"
   ]
  },
  {
   "attachments": {},
   "cell_type": "markdown",
   "metadata": {},
   "source": [
    "Implementation of Thompson Sampling"
   ]
  },
  {
   "cell_type": "code",
   "execution_count": 6,
   "metadata": {},
   "outputs": [
    {
     "name": "stdout",
     "output_type": "stream",
     "text": [
      "Thompson Sampling approach average samples: 812.275\n"
     ]
    }
   ],
   "source": [
    "outputs = []\n",
    "\n",
    "for i in range(NUM_TRIALS):\n",
    "    TRUE_PRODUCT_SALES_PROBABILITIES = np.random.rand(NUM_PRODUCTS)\n",
    "    outputs.append(thompson_sampling(TRUE_PRODUCT_SALES_PROBABILITIES))\n",
    "\n",
    "print(\"Thompson Sampling approach average samples:\", sum(outputs)/len(outputs))"
   ]
  },
  {
   "attachments": {},
   "cell_type": "markdown",
   "metadata": {},
   "source": [
    "Implementation of Upper Confidence Bound"
   ]
  },
  {
   "cell_type": "code",
   "execution_count": 7,
   "metadata": {},
   "outputs": [
    {
     "name": "stdout",
     "output_type": "stream",
     "text": [
      "Upper Confidence Bound Sampling average samples: 790.763\n"
     ]
    }
   ],
   "source": [
    "outputs = []\n",
    "\n",
    "for i in range(NUM_TRIALS):\n",
    "    TRUE_PRODUCT_SALES_PROBABILITIES = np.random.rand(NUM_PRODUCTS)\n",
    "    outputs.append(upper_confidence_bound_sampling(TRUE_PRODUCT_SALES_PROBABILITIES, C=0.8))\n",
    "\n",
    "print(\"Upper Confidence Bound Sampling average samples:\", sum(outputs)/len(outputs))"
   ]
  },
  {
   "cell_type": "code",
   "execution_count": null,
   "metadata": {},
   "outputs": [],
   "source": []
  },
  {
   "cell_type": "code",
   "execution_count": null,
   "metadata": {},
   "outputs": [],
   "source": []
  },
  {
   "cell_type": "code",
   "execution_count": null,
   "metadata": {},
   "outputs": [],
   "source": []
  },
  {
   "cell_type": "code",
   "execution_count": null,
   "metadata": {},
   "outputs": [],
   "source": []
  },
  {
   "cell_type": "code",
   "execution_count": null,
   "metadata": {},
   "outputs": [],
   "source": []
  },
  {
   "cell_type": "code",
   "execution_count": null,
   "metadata": {},
   "outputs": [],
   "source": []
  },
  {
   "cell_type": "code",
   "execution_count": null,
   "metadata": {},
   "outputs": [],
   "source": []
  }
 ],
 "metadata": {
  "kernelspec": {
   "display_name": "Python 3",
   "language": "python",
   "name": "python3"
  },
  "language_info": {
   "codemirror_mode": {
    "name": "ipython",
    "version": 3
   },
   "file_extension": ".py",
   "mimetype": "text/x-python",
   "name": "python",
   "nbconvert_exporter": "python",
   "pygments_lexer": "ipython3",
   "version": "3.9.7"
  },
  "orig_nbformat": 4,
  "vscode": {
   "interpreter": {
    "hash": "68acd5d746db9e112a7343296bb3423d1ae6da35b5d50d333630681f8a968c1e"
   }
  }
 },
 "nbformat": 4,
 "nbformat_minor": 2
}
